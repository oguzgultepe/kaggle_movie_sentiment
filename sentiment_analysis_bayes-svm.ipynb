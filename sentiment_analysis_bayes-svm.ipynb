{
 "cells": [
  {
   "cell_type": "code",
   "execution_count": null,
   "metadata": {},
   "outputs": [],
   "source": [
    "#Import libraries\n",
    "import numpy as np\n",
    "import nltk\n",
    "import pandas as pd\n",
    "import seaborn as sb\n",
    "import matplotlib.pyplot as plt\n",
    "from pprint import pprint\n",
    "from sklearn.pipeline import Pipeline\n",
    "from sklearn.feature_extraction.text import CountVectorizer, TfidfTransformer\n",
    "from sklearn.feature_extraction.text import TfidfTransformer\n",
    "from sklearn.naive_bayes import MultinomialNB\n",
    "from sklearn.linear_model import SGDClassifier\n",
    "from sklearn.model_selection import GridSearchCV\n",
    "from sklearn.model_selection import train_test_split\n",
    "from sklearn import metrics\n",
    "\n",
    "sb.set(color_codes=True)\n",
    "nltk.download('wordnet')"
   ]
  },
  {
   "cell_type": "code",
   "execution_count": null,
   "metadata": {},
   "outputs": [],
   "source": [
    "#Load the data\n",
    "data_train = pd.read_csv(\"./train.tsv\", sep=\"\\t\")\n",
    "data_test = pd.read_csv(\"./test.tsv\", sep='\\t')\n",
    "data_train"
   ]
  },
  {
   "cell_type": "code",
   "execution_count": null,
   "metadata": {
    "scrolled": true
   },
   "outputs": [],
   "source": [
    "#Basic Visualisation of the data\n",
    "dist = data_train.groupby([\"Sentiment\"]).size()\n",
    "dist = dist / dist.sum()\n",
    "plt.subplots(figsize=(12,8))\n",
    "sb.barplot(dist.keys(), dist.values);"
   ]
  },
  {
   "cell_type": "code",
   "execution_count": null,
   "metadata": {},
   "outputs": [],
   "source": [
    "#Customized Tokenizer for data preprocessing\n",
    "def NormalizingTokenizer(doc):\n",
    "    #Tokenize\n",
    "    phrase = nltk.word_tokenize(doc)\n",
    "    #Lemmatize\n",
    "    phrase_lemma = []\n",
    "    lemmatizer = nltk.stem.WordNetLemmatizer()\n",
    "    for word in phrase:\n",
    "        phrase_lemma.append(lemmatizer.lemmatize(word))\n",
    "    #Handle negations\n",
    "    phrase_iterator = iter(phrase_lemma)\n",
    "    negation = False\n",
    "    phrase_negated = []\n",
    "    for word in phrase_iterator:\n",
    "        phrase_negated.append(word)\n",
    "        if word ==  'not':\n",
    "            negation = True\n",
    "            break \n",
    "    for word in phrase_iterator:\n",
    "            phrase_negated.append('not_' + word) \n",
    "    return phrase_negated"
   ]
  },
  {
   "cell_type": "code",
   "execution_count": null,
   "metadata": {},
   "outputs": [],
   "source": [
    "#Building Pipelines\n",
    "\n",
    "#Naive Bayes Classifier\n",
    "bayes_clf = Pipeline([\n",
    "    ('vect', CountVectorizer(tokenizer=NormalizingTokenizer)),\n",
    "    ('tfidf', TfidfTransformer()),\n",
    "    ('clf', MultinomialNB()),\n",
    "])\n",
    "#Support Vector Machine Classifier\n",
    "svm_clf = Pipeline([\n",
    "    ('vect', CountVectorizer(tokenizer=NormalizingTokenizer)),\n",
    "    ('tfidf', TfidfTransformer()),\n",
    "    ('clf', SGDClassifier(max_iter=1000, tol=1e-3)),\n",
    "])"
   ]
  },
  {
   "cell_type": "code",
   "execution_count": null,
   "metadata": {},
   "outputs": [],
   "source": [
    "#We will be doing parameter tuning using grid search\n",
    "import normalize \n",
    "#In order to train the model on multiple cores, all functions need to be 'picklable'\n",
    "#Because of this we have to import the NormalizingTokenizer function\n",
    "\n",
    "#Naive Bayes Classifier pipeline with imported tokenizer\n",
    "bayes_clf = Pipeline([\n",
    "    ('vect', CountVectorizer(tokenizer=normalize.NormalizingTokenizer)),\n",
    "    ('tfidf', TfidfTransformer()),\n",
    "    ('clf', MultinomialNB()),\n",
    "])\n",
    "#Support Vector Machine Classifier pipeline with imported tokenizer\n",
    "svm_clf = Pipeline([\n",
    "    ('vect', CountVectorizer(tokenizer=normalize.NormalizingTokenizer)),\n",
    "    ('tfidf', TfidfTransformer()),\n",
    "    ('clf', SGDClassifier(max_iter=1000, tol=1e-3)),\n",
    "])\n",
    "\n",
    "#Parameters range for the NB Model:\n",
    "#Exlore the models for mono-, bi-, and tri-grams\n",
    "#Explore with or without inverse document frequency\n",
    "#Explore with alpha= 0.5 or 1.0\n",
    "bayes_parameters = {\n",
    "     'vect__ngram_range': [(1, 1), (1, 2), (1,3)],\n",
    "     'tfidf__use_idf': (True, False),     \n",
    "     'clf__alpha': (0.5, 1.0),\n",
    "}\n",
    "\n",
    "#Parameters range for the SVM Model:\n",
    "#Exlore the models for mono-, bi-, and tri-grams\n",
    "#Explore with or without inverse document frequency\n",
    "#Explore with alpha= 0.01 or 0.001\n",
    "svm_parameters = {\n",
    "     'vect__ngram_range': [(1, 1), (1, 2), (1,3)],\n",
    "     'tfidf__use_idf': (True, False),     \n",
    "     'clf__alpha': (1e-2, 1e-3),\n",
    "}\n",
    "\n",
    "#Split the training set\n",
    "X_train, X_validation, Y_train, Y_validation = train_test_split(data_train.values[:,2], \n",
    "                                                                data_train.values[:,-1].astype(int),\n",
    "                                                                test_size=0.1)"
   ]
  },
  {
   "cell_type": "code",
   "execution_count": null,
   "metadata": {
    "scrolled": false
   },
   "outputs": [],
   "source": [
    "#Parameter search on NB Classifier for the first 10000 datapoints\n",
    "gs_bayes = GridSearchCV(bayes_clf, bayes_parameters, cv=5, iid=False, n_jobs=-1, verbose=10)\n",
    "gs_bayes.fit(X_train[:10000], Y_train[:10000])\n",
    "#Fitting the model to the entire training dataset\n",
    "bayes_clf = gs_bayes.best_estimator_\n",
    "bayes_clf.fit(X_train, Y_train)\n",
    "#Testing the model\n",
    "predicted = bayes_clf.predict(X_validation)\n",
    "print('NB Classifier:')\n",
    "print(metrics.classification_report(Y_validation, predicted))"
   ]
  },
  {
   "cell_type": "code",
   "execution_count": null,
   "metadata": {
    "scrolled": false
   },
   "outputs": [],
   "source": [
    "#Parameter search on SVM Classifier\n",
    "gs_svm= GridSearchCV(svm_clf, svm_parameters, cv=5, iid=False, n_jobs=-1, verbose=10)\n",
    "gs_svm.fit(X_train[:10000], Y_train[:10000])\n",
    "#Fitting the model to the entire training dataset\n",
    "svm_clf = gs_svm.best_estimator_\n",
    "svm_clf.fit(X_train, Y_train)\n",
    "#Testing the model\n",
    "predicted = svm_clf.predict(X_validation)\n",
    "print('SVM Classifier:')\n",
    "print(metrics.classification_report(Y_validation, predicted))"
   ]
  },
  {
   "cell_type": "code",
   "execution_count": null,
   "metadata": {},
   "outputs": [],
   "source": [
    "X_test = data_test.values[:,-1]\n",
    "Y_test = bayes_clf.predict(X_test)\n",
    "phrase_ids = data_test.values[:,0]\n",
    "submission = pd.DataFrame(np.column_stack((phrase_ids, Y_test)), columns=['PhraseId','Sentiment'])\n",
    "submission.to_csv('submission.csv', index=False)"
   ]
  },
  {
   "cell_type": "code",
   "execution_count": null,
   "metadata": {},
   "outputs": [],
   "source": []
  }
 ],
 "metadata": {
  "kernelspec": {
   "display_name": "Python 3",
   "language": "python",
   "name": "python3"
  },
  "language_info": {
   "codemirror_mode": {
    "name": "ipython",
    "version": 3
   },
   "file_extension": ".py",
   "mimetype": "text/x-python",
   "name": "python",
   "nbconvert_exporter": "python",
   "pygments_lexer": "ipython3",
   "version": "3.6.5"
  }
 },
 "nbformat": 4,
 "nbformat_minor": 2
}
